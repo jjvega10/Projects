{
 "cells": [
  {
   "cell_type": "code",
   "execution_count": 35,
   "id": "a6fe88b2",
   "metadata": {},
   "outputs": [],
   "source": [
    "# Commercially available resistance coefficients\n",
    "res_comerciales = [1, 1.2, 1.5, 1.8, 2.2, 2.7, 3.3, 3.9, 4.7, 5.1, 5.6, 6.8, 8.2]"
   ]
  },
  {
   "cell_type": "code",
   "execution_count": 36,
   "id": "cd58dbbe",
   "metadata": {},
   "outputs": [],
   "source": [
    "# Gets nearest commercial resistance (single resistance)\n",
    "import bisect\n",
    "import math\n",
    "def res_eq(res_og, res_com=res_comerciales):\n",
    "    # Gets order of magnitude (base 10 exponent) with logarithm\n",
    "    mag = math.floor(math.log(res_og, 10))\n",
    "    \n",
    "    # Gets coeficient of scientific notation\n",
    "    res_coef = res_og/(10 ** mag)\n",
    "    \n",
    "    # Last resistance as maximum delta\n",
    "    best_delta = res_com[-1]\n",
    "    \n",
    "    # Compare with all comerical resistances (must be ordered)\n",
    "    # Checks lowest to highest\n",
    "    # To reduce avg checks, could use midpoints in list instead of lowest to highest\n",
    "    # Could also create hash function for integer approximating to closest resistance\n",
    "    for res in res_com:\n",
    "        # If difference is lower, set new closes resistance\n",
    "        if best_delta > abs(res_coef - res):\n",
    "            best_delta = abs(res_coef - res)\n",
    "            best_res = res\n",
    "        # Else stop checking (ONLY WORKS FOR ORDERED COMMERCIAL RESISTANCES)\n",
    "        else: \n",
    "            break\n",
    "    # Return closest resistance and elevate to correct power of 10\n",
    "    return best_res * (10 ** mag)"
   ]
  },
  {
   "cell_type": "code",
   "execution_count": 37,
   "id": "93caa81c",
   "metadata": {},
   "outputs": [],
   "source": [
    "import numpy as np\n",
    "# Resistance Series Summation\n",
    "# Takes list, converts to np float array and sums\n",
    "def sum_series(res_list):\n",
    "    return np.array(res_list, dtype=float).sum()\n",
    "# Resistance Parallel Summation\n",
    "# Takes series, converts to np float array, takes reciprocal and sums reciprocal of reciprocal\n",
    "def sum_parallel(res_list):\n",
    "    arr = np.array(res_list, dtype=float)\n",
    "    res_rep = np.reciprocal(arr)\n",
    "    return np.reciprocal(res_rep.sum())"
   ]
  },
  {
   "cell_type": "code",
   "execution_count": 38,
   "id": "763683eb",
   "metadata": {},
   "outputs": [],
   "source": [
    "# Sample resistances\n",
    "res_ogs = [15, 7, 20, 30, 5]"
   ]
  },
  {
   "cell_type": "code",
   "execution_count": 39,
   "id": "a41f296b",
   "metadata": {},
   "outputs": [],
   "source": [
    "# Closest commercial resistances\n",
    "res_eqs = [res_eq(x) for x in res_ogs]"
   ]
  },
  {
   "cell_type": "code",
   "execution_count": 40,
   "id": "fe252fd9",
   "metadata": {},
   "outputs": [
    {
     "data": {
      "text/plain": [
       "2.028985507246377"
      ]
     },
     "execution_count": 40,
     "metadata": {},
     "output_type": "execute_result"
    }
   ],
   "source": [
    "sum_parallel(res_ogs)"
   ]
  },
  {
   "cell_type": "code",
   "execution_count": 41,
   "id": "39948570",
   "metadata": {},
   "outputs": [
    {
     "data": {
      "text/plain": [
       "1.990459670424978"
      ]
     },
     "execution_count": 41,
     "metadata": {},
     "output_type": "execute_result"
    }
   ],
   "source": [
    "sum_parallel(res_eqs)"
   ]
  },
  {
   "cell_type": "code",
   "execution_count": null,
   "id": "bcfbe117",
   "metadata": {},
   "outputs": [],
   "source": []
  }
 ],
 "metadata": {
  "kernelspec": {
   "display_name": "Python 3 (ipykernel)",
   "language": "python",
   "name": "python3"
  },
  "language_info": {
   "codemirror_mode": {
    "name": "ipython",
    "version": 3
   },
   "file_extension": ".py",
   "mimetype": "text/x-python",
   "name": "python",
   "nbconvert_exporter": "python",
   "pygments_lexer": "ipython3",
   "version": "3.9.7"
  }
 },
 "nbformat": 4,
 "nbformat_minor": 5
}
