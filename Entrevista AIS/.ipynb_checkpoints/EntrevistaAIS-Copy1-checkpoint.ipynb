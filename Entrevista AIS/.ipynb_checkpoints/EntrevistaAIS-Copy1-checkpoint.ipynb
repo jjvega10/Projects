{
 "cells": [
  {
   "cell_type": "markdown",
   "id": "47176660",
   "metadata": {},
   "source": [
    "# Prueba técnica"
   ]
  },
  {
   "cell_type": "code",
   "execution_count": 70,
   "id": "eb3fe2c3",
   "metadata": {},
   "outputs": [],
   "source": [
    "import pandas as pd\n",
    "import matplotlib.pyplot as plt\n",
    "import seaborn as sns"
   ]
  },
  {
   "cell_type": "markdown",
   "id": "c077c932",
   "metadata": {},
   "source": [
    "## 1. LECTURA Y GUARDADO DE BASES"
   ]
  },
  {
   "cell_type": "code",
   "execution_count": 3,
   "id": "e08c435e",
   "metadata": {},
   "outputs": [],
   "source": [
    "clientes_01 = pd.read_csv('CLIENTES_01.csv', sep=';', header=0)\n",
    "clientes_02 = pd.read_csv('CLIENTES_02.csv', sep=';', header=0)"
   ]
  },
  {
   "cell_type": "code",
   "execution_count": 4,
   "id": "c25d6529",
   "metadata": {},
   "outputs": [],
   "source": [
    "clientes_01 = clientes_01.set_index('ID_PERSONA')\n",
    "clientes_02 = clientes_02.set_index('ID_PERSONA')"
   ]
  },
  {
   "cell_type": "code",
   "execution_count": 5,
   "id": "f40d29b7",
   "metadata": {
    "scrolled": true
   },
   "outputs": [],
   "source": [
    "clientes_03 = clientes_01.join(clientes_02, on='ID_PERSONA')\n",
    "clientes_03.to_csv(\"CLIENTES03.csv\", sep=';')"
   ]
  },
  {
   "cell_type": "markdown",
   "id": "8a1cf826",
   "metadata": {},
   "source": [
    "## 2. CONSTRUCCIÓN Y ANÁLISIS DE VARIABLES"
   ]
  },
  {
   "cell_type": "code",
   "execution_count": 6,
   "id": "11d76fe0",
   "metadata": {},
   "outputs": [],
   "source": [
    "clientes_03['RAT_AP'] = (clientes_03['PAS_CIRCULANTE'] + clientes_03['PAS_LARGO_PLAZO'])/clientes_03['CAPITAL']"
   ]
  },
  {
   "cell_type": "code",
   "execution_count": 7,
   "id": "91f58f55",
   "metadata": {
    "scrolled": false
   },
   "outputs": [
    {
     "name": "stdout",
     "output_type": "stream",
     "text": [
      "<class 'pandas.core.frame.DataFrame'>\n",
      "Index: 999 entries, CLPR001 to CLPR999\n",
      "Data columns (total 13 columns):\n",
      " #   Column              Non-Null Count  Dtype  \n",
      "---  ------              --------------  -----  \n",
      " 0   ACTIVO_TOTAL        999 non-null    int64  \n",
      " 1   CAJA_BANCOS         999 non-null    float64\n",
      " 2   CAPITAL             998 non-null    float64\n",
      " 3   DOCS_X_COBRAR       871 non-null    float64\n",
      " 4   COSTO_VTAS          999 non-null    int64  \n",
      " 5   DEUDORES_DIV        999 non-null    int64  \n",
      " 6   PAS_CIRCULANTE      999 non-null    int64  \n",
      " 7   PAS_LARGO_PLAZO     998 non-null    float64\n",
      " 8   VTAS_NETAS_TOTALES  998 non-null    float64\n",
      " 9   ANIOS_FUNCIONA      998 non-null    float64\n",
      " 10  SECTOR_AIS          998 non-null    float64\n",
      " 11  MORA                998 non-null    float64\n",
      " 12  RAT_AP              997 non-null    float64\n",
      "dtypes: float64(9), int64(4)\n",
      "memory usage: 109.3+ KB\n"
     ]
    }
   ],
   "source": [
    "clientes_03.info()"
   ]
  },
  {
   "cell_type": "code",
   "execution_count": 8,
   "id": "82b5e3b9",
   "metadata": {
    "scrolled": false
   },
   "outputs": [
    {
     "data": {
      "text/html": [
       "<div>\n",
       "<style scoped>\n",
       "    .dataframe tbody tr th:only-of-type {\n",
       "        vertical-align: middle;\n",
       "    }\n",
       "\n",
       "    .dataframe tbody tr th {\n",
       "        vertical-align: top;\n",
       "    }\n",
       "\n",
       "    .dataframe thead th {\n",
       "        text-align: right;\n",
       "    }\n",
       "</style>\n",
       "<table border=\"1\" class=\"dataframe\">\n",
       "  <thead>\n",
       "    <tr style=\"text-align: right;\">\n",
       "      <th></th>\n",
       "      <th>ACTIVO_TOTAL</th>\n",
       "      <th>CAJA_BANCOS</th>\n",
       "      <th>CAPITAL</th>\n",
       "      <th>DOCS_X_COBRAR</th>\n",
       "      <th>COSTO_VTAS</th>\n",
       "      <th>DEUDORES_DIV</th>\n",
       "      <th>PAS_CIRCULANTE</th>\n",
       "      <th>PAS_LARGO_PLAZO</th>\n",
       "      <th>VTAS_NETAS_TOTALES</th>\n",
       "      <th>ANIOS_FUNCIONA</th>\n",
       "      <th>SECTOR_AIS</th>\n",
       "      <th>MORA</th>\n",
       "      <th>RAT_AP</th>\n",
       "    </tr>\n",
       "  </thead>\n",
       "  <tbody>\n",
       "    <tr>\n",
       "      <th>count</th>\n",
       "      <td>9.990000e+02</td>\n",
       "      <td>9.990000e+02</td>\n",
       "      <td>9.980000e+02</td>\n",
       "      <td>8.710000e+02</td>\n",
       "      <td>9.990000e+02</td>\n",
       "      <td>9.990000e+02</td>\n",
       "      <td>9.990000e+02</td>\n",
       "      <td>9.980000e+02</td>\n",
       "      <td>9.980000e+02</td>\n",
       "      <td>998.000000</td>\n",
       "      <td>998.000000</td>\n",
       "      <td>998.000000</td>\n",
       "      <td>997.000000</td>\n",
       "    </tr>\n",
       "    <tr>\n",
       "      <th>mean</th>\n",
       "      <td>6.623168e+07</td>\n",
       "      <td>1.301301e+14</td>\n",
       "      <td>4.094475e+07</td>\n",
       "      <td>9.635767e+06</td>\n",
       "      <td>2.424564e+07</td>\n",
       "      <td>1.403152e+06</td>\n",
       "      <td>1.731571e+07</td>\n",
       "      <td>7.999902e+06</td>\n",
       "      <td>3.850747e+07</td>\n",
       "      <td>5.743487</td>\n",
       "      <td>3.570140</td>\n",
       "      <td>0.183367</td>\n",
       "      <td>0.847371</td>\n",
       "    </tr>\n",
       "    <tr>\n",
       "      <th>std</th>\n",
       "      <td>2.535585e+08</td>\n",
       "      <td>4.113018e+15</td>\n",
       "      <td>2.048577e+08</td>\n",
       "      <td>3.281933e+07</td>\n",
       "      <td>2.150295e+07</td>\n",
       "      <td>4.343665e+06</td>\n",
       "      <td>4.555921e+07</td>\n",
       "      <td>4.701118e+07</td>\n",
       "      <td>2.466604e+07</td>\n",
       "      <td>4.577685</td>\n",
       "      <td>1.747499</td>\n",
       "      <td>0.387161</td>\n",
       "      <td>7.887060</td>\n",
       "    </tr>\n",
       "    <tr>\n",
       "      <th>min</th>\n",
       "      <td>9.030000e+03</td>\n",
       "      <td>-6.593000e+06</td>\n",
       "      <td>-1.435300e+07</td>\n",
       "      <td>-1.600000e+04</td>\n",
       "      <td>0.000000e+00</td>\n",
       "      <td>0.000000e+00</td>\n",
       "      <td>0.000000e+00</td>\n",
       "      <td>-1.693000e+06</td>\n",
       "      <td>1.000000e+03</td>\n",
       "      <td>-80.000000</td>\n",
       "      <td>1.000000</td>\n",
       "      <td>0.000000</td>\n",
       "      <td>-190.230519</td>\n",
       "    </tr>\n",
       "    <tr>\n",
       "      <th>25%</th>\n",
       "      <td>1.559300e+07</td>\n",
       "      <td>1.760000e+05</td>\n",
       "      <td>6.864750e+06</td>\n",
       "      <td>1.065500e+06</td>\n",
       "      <td>3.539000e+06</td>\n",
       "      <td>0.000000e+00</td>\n",
       "      <td>3.434500e+06</td>\n",
       "      <td>0.000000e+00</td>\n",
       "      <td>1.769275e+07</td>\n",
       "      <td>3.000000</td>\n",
       "      <td>2.000000</td>\n",
       "      <td>0.000000</td>\n",
       "      <td>0.254700</td>\n",
       "    </tr>\n",
       "    <tr>\n",
       "      <th>50%</th>\n",
       "      <td>2.955700e+07</td>\n",
       "      <td>5.080000e+05</td>\n",
       "      <td>1.599350e+07</td>\n",
       "      <td>3.985000e+06</td>\n",
       "      <td>2.066800e+07</td>\n",
       "      <td>1.340000e+05</td>\n",
       "      <td>7.891000e+06</td>\n",
       "      <td>2.805000e+05</td>\n",
       "      <td>3.639300e+07</td>\n",
       "      <td>6.000000</td>\n",
       "      <td>4.000000</td>\n",
       "      <td>0.000000</td>\n",
       "      <td>0.649259</td>\n",
       "    </tr>\n",
       "    <tr>\n",
       "      <th>75%</th>\n",
       "      <td>5.645150e+07</td>\n",
       "      <td>1.489500e+06</td>\n",
       "      <td>3.238475e+07</td>\n",
       "      <td>1.080250e+07</td>\n",
       "      <td>3.939700e+07</td>\n",
       "      <td>1.017000e+06</td>\n",
       "      <td>1.713000e+07</td>\n",
       "      <td>4.027500e+06</td>\n",
       "      <td>5.771575e+07</td>\n",
       "      <td>9.000000</td>\n",
       "      <td>5.000000</td>\n",
       "      <td>0.000000</td>\n",
       "      <td>1.397363</td>\n",
       "    </tr>\n",
       "    <tr>\n",
       "      <th>max</th>\n",
       "      <td>6.521729e+09</td>\n",
       "      <td>1.300000e+17</td>\n",
       "      <td>5.106718e+09</td>\n",
       "      <td>7.032370e+08</td>\n",
       "      <td>9.093000e+07</td>\n",
       "      <td>5.241000e+07</td>\n",
       "      <td>8.201800e+08</td>\n",
       "      <td>1.193737e+09</td>\n",
       "      <td>8.965000e+07</td>\n",
       "      <td>12.000000</td>\n",
       "      <td>6.000000</td>\n",
       "      <td>1.000000</td>\n",
       "      <td>99.837209</td>\n",
       "    </tr>\n",
       "  </tbody>\n",
       "</table>\n",
       "</div>"
      ],
      "text/plain": [
       "       ACTIVO_TOTAL   CAJA_BANCOS       CAPITAL  DOCS_X_COBRAR    COSTO_VTAS  \\\n",
       "count  9.990000e+02  9.990000e+02  9.980000e+02   8.710000e+02  9.990000e+02   \n",
       "mean   6.623168e+07  1.301301e+14  4.094475e+07   9.635767e+06  2.424564e+07   \n",
       "std    2.535585e+08  4.113018e+15  2.048577e+08   3.281933e+07  2.150295e+07   \n",
       "min    9.030000e+03 -6.593000e+06 -1.435300e+07  -1.600000e+04  0.000000e+00   \n",
       "25%    1.559300e+07  1.760000e+05  6.864750e+06   1.065500e+06  3.539000e+06   \n",
       "50%    2.955700e+07  5.080000e+05  1.599350e+07   3.985000e+06  2.066800e+07   \n",
       "75%    5.645150e+07  1.489500e+06  3.238475e+07   1.080250e+07  3.939700e+07   \n",
       "max    6.521729e+09  1.300000e+17  5.106718e+09   7.032370e+08  9.093000e+07   \n",
       "\n",
       "       DEUDORES_DIV  PAS_CIRCULANTE  PAS_LARGO_PLAZO  VTAS_NETAS_TOTALES  \\\n",
       "count  9.990000e+02    9.990000e+02     9.980000e+02        9.980000e+02   \n",
       "mean   1.403152e+06    1.731571e+07     7.999902e+06        3.850747e+07   \n",
       "std    4.343665e+06    4.555921e+07     4.701118e+07        2.466604e+07   \n",
       "min    0.000000e+00    0.000000e+00    -1.693000e+06        1.000000e+03   \n",
       "25%    0.000000e+00    3.434500e+06     0.000000e+00        1.769275e+07   \n",
       "50%    1.340000e+05    7.891000e+06     2.805000e+05        3.639300e+07   \n",
       "75%    1.017000e+06    1.713000e+07     4.027500e+06        5.771575e+07   \n",
       "max    5.241000e+07    8.201800e+08     1.193737e+09        8.965000e+07   \n",
       "\n",
       "       ANIOS_FUNCIONA  SECTOR_AIS        MORA      RAT_AP  \n",
       "count      998.000000  998.000000  998.000000  997.000000  \n",
       "mean         5.743487    3.570140    0.183367    0.847371  \n",
       "std          4.577685    1.747499    0.387161    7.887060  \n",
       "min        -80.000000    1.000000    0.000000 -190.230519  \n",
       "25%          3.000000    2.000000    0.000000    0.254700  \n",
       "50%          6.000000    4.000000    0.000000    0.649259  \n",
       "75%          9.000000    5.000000    0.000000    1.397363  \n",
       "max         12.000000    6.000000    1.000000   99.837209  "
      ]
     },
     "execution_count": 8,
     "metadata": {},
     "output_type": "execute_result"
    }
   ],
   "source": [
    "clientes_03.describe()"
   ]
  },
  {
   "cell_type": "code",
   "execution_count": 9,
   "id": "86fab664",
   "metadata": {},
   "outputs": [],
   "source": [
    "categoricas = ['SECTOR_AIS', 'MORA']\n",
    "clientes_03_cat = clientes_03.copy()\n",
    "clientes_03_cat[categoricas] = clientes_03[categoricas].astype('category')"
   ]
  },
  {
   "cell_type": "code",
   "execution_count": 10,
   "id": "ca87e8da",
   "metadata": {
    "scrolled": true
   },
   "outputs": [
    {
     "data": {
      "text/plain": [
       "count    8.710000e+02\n",
       "mean     9.635767e+06\n",
       "std      3.281933e+07\n",
       "min     -1.600000e+04\n",
       "25%      1.065500e+06\n",
       "50%      3.985000e+06\n",
       "75%      1.080250e+07\n",
       "max      7.032370e+08\n",
       "Name: DOCS_X_COBRAR, dtype: float64"
      ]
     },
     "execution_count": 10,
     "metadata": {},
     "output_type": "execute_result"
    }
   ],
   "source": [
    "clientes_03['DOCS_X_COBRAR'][clientes_03['DOCS_X_COBRAR'].notnull()].describe()"
   ]
  },
  {
   "cell_type": "code",
   "execution_count": 11,
   "id": "439bb185",
   "metadata": {},
   "outputs": [
    {
     "data": {
      "text/html": [
       "<div>\n",
       "<style scoped>\n",
       "    .dataframe tbody tr th:only-of-type {\n",
       "        vertical-align: middle;\n",
       "    }\n",
       "\n",
       "    .dataframe tbody tr th {\n",
       "        vertical-align: top;\n",
       "    }\n",
       "\n",
       "    .dataframe thead th {\n",
       "        text-align: right;\n",
       "    }\n",
       "</style>\n",
       "<table border=\"1\" class=\"dataframe\">\n",
       "  <thead>\n",
       "    <tr style=\"text-align: right;\">\n",
       "      <th></th>\n",
       "      <th>ACTIVO_TOTAL</th>\n",
       "      <th>CAJA_BANCOS</th>\n",
       "      <th>CAPITAL</th>\n",
       "      <th>DOCS_X_COBRAR</th>\n",
       "      <th>COSTO_VTAS</th>\n",
       "      <th>DEUDORES_DIV</th>\n",
       "      <th>PAS_CIRCULANTE</th>\n",
       "      <th>PAS_LARGO_PLAZO</th>\n",
       "      <th>VTAS_NETAS_TOTALES</th>\n",
       "      <th>ANIOS_FUNCIONA</th>\n",
       "      <th>SECTOR_AIS</th>\n",
       "      <th>MORA</th>\n",
       "      <th>RAT_AP</th>\n",
       "    </tr>\n",
       "    <tr>\n",
       "      <th>ID_PERSONA</th>\n",
       "      <th></th>\n",
       "      <th></th>\n",
       "      <th></th>\n",
       "      <th></th>\n",
       "      <th></th>\n",
       "      <th></th>\n",
       "      <th></th>\n",
       "      <th></th>\n",
       "      <th></th>\n",
       "      <th></th>\n",
       "      <th></th>\n",
       "      <th></th>\n",
       "      <th></th>\n",
       "    </tr>\n",
       "  </thead>\n",
       "  <tbody>\n",
       "    <tr>\n",
       "      <th>CLPR013</th>\n",
       "      <td>22121000</td>\n",
       "      <td>494000.0</td>\n",
       "      <td>18993000.0</td>\n",
       "      <td>3985000.0</td>\n",
       "      <td>20928000</td>\n",
       "      <td>3242000</td>\n",
       "      <td>3128000</td>\n",
       "      <td>NaN</td>\n",
       "      <td>NaN</td>\n",
       "      <td>NaN</td>\n",
       "      <td>NaN</td>\n",
       "      <td>NaN</td>\n",
       "      <td>NaN</td>\n",
       "    </tr>\n",
       "  </tbody>\n",
       "</table>\n",
       "</div>"
      ],
      "text/plain": [
       "            ACTIVO_TOTAL  CAJA_BANCOS     CAPITAL  DOCS_X_COBRAR  COSTO_VTAS  \\\n",
       "ID_PERSONA                                                                     \n",
       "CLPR013         22121000     494000.0  18993000.0      3985000.0    20928000   \n",
       "\n",
       "            DEUDORES_DIV  PAS_CIRCULANTE  PAS_LARGO_PLAZO  VTAS_NETAS_TOTALES  \\\n",
       "ID_PERSONA                                                                      \n",
       "CLPR013          3242000         3128000              NaN                 NaN   \n",
       "\n",
       "            ANIOS_FUNCIONA  SECTOR_AIS  MORA  RAT_AP  \n",
       "ID_PERSONA                                            \n",
       "CLPR013                NaN         NaN   NaN     NaN  "
      ]
     },
     "execution_count": 11,
     "metadata": {},
     "output_type": "execute_result"
    }
   ],
   "source": [
    "clientes_03[clientes_03['MORA'].isnull()]"
   ]
  },
  {
   "cell_type": "code",
   "execution_count": 12,
   "id": "f6c758a3",
   "metadata": {},
   "outputs": [
    {
     "data": {
      "text/html": [
       "<div>\n",
       "<style scoped>\n",
       "    .dataframe tbody tr th:only-of-type {\n",
       "        vertical-align: middle;\n",
       "    }\n",
       "\n",
       "    .dataframe tbody tr th {\n",
       "        vertical-align: top;\n",
       "    }\n",
       "\n",
       "    .dataframe thead th {\n",
       "        text-align: right;\n",
       "    }\n",
       "</style>\n",
       "<table border=\"1\" class=\"dataframe\">\n",
       "  <thead>\n",
       "    <tr style=\"text-align: right;\">\n",
       "      <th></th>\n",
       "      <th>ACTIVO_TOTAL</th>\n",
       "      <th>CAJA_BANCOS</th>\n",
       "      <th>CAPITAL</th>\n",
       "      <th>DOCS_X_COBRAR</th>\n",
       "      <th>COSTO_VTAS</th>\n",
       "      <th>DEUDORES_DIV</th>\n",
       "      <th>PAS_CIRCULANTE</th>\n",
       "      <th>PAS_LARGO_PLAZO</th>\n",
       "      <th>VTAS_NETAS_TOTALES</th>\n",
       "      <th>ANIOS_FUNCIONA</th>\n",
       "      <th>SECTOR_AIS</th>\n",
       "      <th>MORA</th>\n",
       "      <th>RAT_AP</th>\n",
       "    </tr>\n",
       "    <tr>\n",
       "      <th>ID_PERSONA</th>\n",
       "      <th></th>\n",
       "      <th></th>\n",
       "      <th></th>\n",
       "      <th></th>\n",
       "      <th></th>\n",
       "      <th></th>\n",
       "      <th></th>\n",
       "      <th></th>\n",
       "      <th></th>\n",
       "      <th></th>\n",
       "      <th></th>\n",
       "      <th></th>\n",
       "      <th></th>\n",
       "    </tr>\n",
       "  </thead>\n",
       "  <tbody>\n",
       "    <tr>\n",
       "      <th>CLPR009</th>\n",
       "      <td>4384000</td>\n",
       "      <td>32000.0</td>\n",
       "      <td>1029000.0</td>\n",
       "      <td>NaN</td>\n",
       "      <td>35306000</td>\n",
       "      <td>214000</td>\n",
       "      <td>3355000</td>\n",
       "      <td>0.0</td>\n",
       "      <td>35691000.0</td>\n",
       "      <td>12.0</td>\n",
       "      <td>6.0</td>\n",
       "      <td>0.0</td>\n",
       "      <td>3.260447</td>\n",
       "    </tr>\n",
       "    <tr>\n",
       "      <th>CLPR010</th>\n",
       "      <td>23502000</td>\n",
       "      <td>747000.0</td>\n",
       "      <td>4476000.0</td>\n",
       "      <td>NaN</td>\n",
       "      <td>10543000</td>\n",
       "      <td>11000</td>\n",
       "      <td>14978000</td>\n",
       "      <td>4048000.0</td>\n",
       "      <td>16081000.0</td>\n",
       "      <td>0.0</td>\n",
       "      <td>4.0</td>\n",
       "      <td>0.0</td>\n",
       "      <td>4.250670</td>\n",
       "    </tr>\n",
       "    <tr>\n",
       "      <th>CLPR014</th>\n",
       "      <td>755414000</td>\n",
       "      <td>36000.0</td>\n",
       "      <td>631286000.0</td>\n",
       "      <td>NaN</td>\n",
       "      <td>37801000</td>\n",
       "      <td>0</td>\n",
       "      <td>98605000</td>\n",
       "      <td>25523000.0</td>\n",
       "      <td>66055000.0</td>\n",
       "      <td>5.0</td>\n",
       "      <td>1.0</td>\n",
       "      <td>1.0</td>\n",
       "      <td>0.196627</td>\n",
       "    </tr>\n",
       "    <tr>\n",
       "      <th>CLPR024</th>\n",
       "      <td>19961000</td>\n",
       "      <td>0.0</td>\n",
       "      <td>1435000.0</td>\n",
       "      <td>NaN</td>\n",
       "      <td>4525000</td>\n",
       "      <td>0</td>\n",
       "      <td>5330000</td>\n",
       "      <td>13196000.0</td>\n",
       "      <td>8819000.0</td>\n",
       "      <td>6.0</td>\n",
       "      <td>5.0</td>\n",
       "      <td>0.0</td>\n",
       "      <td>12.910105</td>\n",
       "    </tr>\n",
       "    <tr>\n",
       "      <th>CLPR028</th>\n",
       "      <td>14863000</td>\n",
       "      <td>221000.0</td>\n",
       "      <td>11847000.0</td>\n",
       "      <td>NaN</td>\n",
       "      <td>14017000</td>\n",
       "      <td>1173000</td>\n",
       "      <td>3016000</td>\n",
       "      <td>0.0</td>\n",
       "      <td>18720000.0</td>\n",
       "      <td>10.0</td>\n",
       "      <td>1.0</td>\n",
       "      <td>0.0</td>\n",
       "      <td>0.254579</td>\n",
       "    </tr>\n",
       "    <tr>\n",
       "      <th>...</th>\n",
       "      <td>...</td>\n",
       "      <td>...</td>\n",
       "      <td>...</td>\n",
       "      <td>...</td>\n",
       "      <td>...</td>\n",
       "      <td>...</td>\n",
       "      <td>...</td>\n",
       "      <td>...</td>\n",
       "      <td>...</td>\n",
       "      <td>...</td>\n",
       "      <td>...</td>\n",
       "      <td>...</td>\n",
       "      <td>...</td>\n",
       "    </tr>\n",
       "    <tr>\n",
       "      <th>CLPR919</th>\n",
       "      <td>198520000</td>\n",
       "      <td>3476000.0</td>\n",
       "      <td>120920000.0</td>\n",
       "      <td>NaN</td>\n",
       "      <td>0</td>\n",
       "      <td>663000</td>\n",
       "      <td>67878000</td>\n",
       "      <td>9722000.0</td>\n",
       "      <td>40531000.0</td>\n",
       "      <td>8.0</td>\n",
       "      <td>3.0</td>\n",
       "      <td>1.0</td>\n",
       "      <td>0.641747</td>\n",
       "    </tr>\n",
       "    <tr>\n",
       "      <th>CLPR956</th>\n",
       "      <td>55847000</td>\n",
       "      <td>910000.0</td>\n",
       "      <td>37676000.0</td>\n",
       "      <td>NaN</td>\n",
       "      <td>0</td>\n",
       "      <td>0</td>\n",
       "      <td>3379000</td>\n",
       "      <td>14792000.0</td>\n",
       "      <td>4976000.0</td>\n",
       "      <td>5.0</td>\n",
       "      <td>4.0</td>\n",
       "      <td>0.0</td>\n",
       "      <td>0.482296</td>\n",
       "    </tr>\n",
       "    <tr>\n",
       "      <th>CLPR962</th>\n",
       "      <td>39452000</td>\n",
       "      <td>66000.0</td>\n",
       "      <td>38028000.0</td>\n",
       "      <td>NaN</td>\n",
       "      <td>1653000</td>\n",
       "      <td>105000</td>\n",
       "      <td>579000</td>\n",
       "      <td>845000.0</td>\n",
       "      <td>4804000.0</td>\n",
       "      <td>4.0</td>\n",
       "      <td>4.0</td>\n",
       "      <td>0.0</td>\n",
       "      <td>0.037446</td>\n",
       "    </tr>\n",
       "    <tr>\n",
       "      <th>CLPR972</th>\n",
       "      <td>11854000</td>\n",
       "      <td>637000.0</td>\n",
       "      <td>8051000.0</td>\n",
       "      <td>NaN</td>\n",
       "      <td>7443000</td>\n",
       "      <td>509000</td>\n",
       "      <td>3470000</td>\n",
       "      <td>333000.0</td>\n",
       "      <td>23425000.0</td>\n",
       "      <td>8.0</td>\n",
       "      <td>3.0</td>\n",
       "      <td>0.0</td>\n",
       "      <td>0.472364</td>\n",
       "    </tr>\n",
       "    <tr>\n",
       "      <th>CLPR977</th>\n",
       "      <td>7997000</td>\n",
       "      <td>203000.0</td>\n",
       "      <td>2961000.0</td>\n",
       "      <td>NaN</td>\n",
       "      <td>6807000</td>\n",
       "      <td>0</td>\n",
       "      <td>5036000</td>\n",
       "      <td>0.0</td>\n",
       "      <td>9820000.0</td>\n",
       "      <td>5.0</td>\n",
       "      <td>6.0</td>\n",
       "      <td>0.0</td>\n",
       "      <td>1.700777</td>\n",
       "    </tr>\n",
       "  </tbody>\n",
       "</table>\n",
       "<p>128 rows × 13 columns</p>\n",
       "</div>"
      ],
      "text/plain": [
       "            ACTIVO_TOTAL  CAJA_BANCOS      CAPITAL  DOCS_X_COBRAR  COSTO_VTAS  \\\n",
       "ID_PERSONA                                                                      \n",
       "CLPR009          4384000      32000.0    1029000.0            NaN    35306000   \n",
       "CLPR010         23502000     747000.0    4476000.0            NaN    10543000   \n",
       "CLPR014        755414000      36000.0  631286000.0            NaN    37801000   \n",
       "CLPR024         19961000          0.0    1435000.0            NaN     4525000   \n",
       "CLPR028         14863000     221000.0   11847000.0            NaN    14017000   \n",
       "...                  ...          ...          ...            ...         ...   \n",
       "CLPR919        198520000    3476000.0  120920000.0            NaN           0   \n",
       "CLPR956         55847000     910000.0   37676000.0            NaN           0   \n",
       "CLPR962         39452000      66000.0   38028000.0            NaN     1653000   \n",
       "CLPR972         11854000     637000.0    8051000.0            NaN     7443000   \n",
       "CLPR977          7997000     203000.0    2961000.0            NaN     6807000   \n",
       "\n",
       "            DEUDORES_DIV  PAS_CIRCULANTE  PAS_LARGO_PLAZO  VTAS_NETAS_TOTALES  \\\n",
       "ID_PERSONA                                                                      \n",
       "CLPR009           214000         3355000              0.0          35691000.0   \n",
       "CLPR010            11000        14978000        4048000.0          16081000.0   \n",
       "CLPR014                0        98605000       25523000.0          66055000.0   \n",
       "CLPR024                0         5330000       13196000.0           8819000.0   \n",
       "CLPR028          1173000         3016000              0.0          18720000.0   \n",
       "...                  ...             ...              ...                 ...   \n",
       "CLPR919           663000        67878000        9722000.0          40531000.0   \n",
       "CLPR956                0         3379000       14792000.0           4976000.0   \n",
       "CLPR962           105000          579000         845000.0           4804000.0   \n",
       "CLPR972           509000         3470000         333000.0          23425000.0   \n",
       "CLPR977                0         5036000              0.0           9820000.0   \n",
       "\n",
       "            ANIOS_FUNCIONA  SECTOR_AIS  MORA     RAT_AP  \n",
       "ID_PERSONA                                               \n",
       "CLPR009               12.0         6.0   0.0   3.260447  \n",
       "CLPR010                0.0         4.0   0.0   4.250670  \n",
       "CLPR014                5.0         1.0   1.0   0.196627  \n",
       "CLPR024                6.0         5.0   0.0  12.910105  \n",
       "CLPR028               10.0         1.0   0.0   0.254579  \n",
       "...                    ...         ...   ...        ...  \n",
       "CLPR919                8.0         3.0   1.0   0.641747  \n",
       "CLPR956                5.0         4.0   0.0   0.482296  \n",
       "CLPR962                4.0         4.0   0.0   0.037446  \n",
       "CLPR972                8.0         3.0   0.0   0.472364  \n",
       "CLPR977                5.0         6.0   0.0   1.700777  \n",
       "\n",
       "[128 rows x 13 columns]"
      ]
     },
     "execution_count": 12,
     "metadata": {},
     "output_type": "execute_result"
    }
   ],
   "source": [
    "clientes_03[clientes_03['DOCS_X_COBRAR'].isnull()]"
   ]
  },
  {
   "cell_type": "code",
   "execution_count": 13,
   "id": "583797df",
   "metadata": {
    "scrolled": false
   },
   "outputs": [
    {
     "data": {
      "text/plain": [
       "MORA                  1.000000\n",
       "COSTO_VTAS            0.244378\n",
       "VTAS_NETAS_TOTALES    0.204734\n",
       "DOCS_X_COBRAR         0.177443\n",
       "PAS_CIRCULANTE        0.160808\n",
       "DEUDORES_DIV          0.146775\n",
       "ACTIVO_TOTAL          0.140788\n",
       "CAPITAL               0.114079\n",
       "PAS_LARGO_PLAZO       0.106543\n",
       "SECTOR_AIS            0.087965\n",
       "CAJA_BANCOS           0.015007\n",
       "ANIOS_FUNCIONA        0.008522\n",
       "RAT_AP                0.005303\n",
       "Name: MORA, dtype: float64"
      ]
     },
     "execution_count": 13,
     "metadata": {},
     "output_type": "execute_result"
    }
   ],
   "source": [
    "correlaciones = clientes_03.corr()['MORA'].abs().sort_values(ascending=False)\n",
    "correlaciones"
   ]
  },
  {
   "cell_type": "code",
   "execution_count": null,
   "id": "ffa5ee97",
   "metadata": {},
   "outputs": [],
   "source": []
  },
  {
   "cell_type": "code",
   "execution_count": 14,
   "id": "68b75a40",
   "metadata": {},
   "outputs": [],
   "source": [
    "variables_interes = [x for x in correlaciones.drop('MORA').index if correlaciones[x] > 0.10]"
   ]
  },
  {
   "cell_type": "code",
   "execution_count": 71,
   "id": "fdf47232",
   "metadata": {
    "scrolled": false
   },
   "outputs": [
    {
     "data": {
      "image/png": "[encoded data removed]",
      "text/plain": [
       "<Figure size 432x288 with 2 Axes>"
      ]
     },
     "metadata": {
      "needs_background": "light"
     },
     "output_type": "display_data"
    }
   ],
   "source": [
    "sns.heatmap(clientes_03.corr())\n",
    "plt.savefig('Correlaciones.png')"
   ]
  },
  {
   "cell_type": "code",
   "execution_count": 16,
   "id": "349ad686",
   "metadata": {},
   "outputs": [
    {
     "data": {
      "text/html": [
       "<div>\n",
       "<style scoped>\n",
       "    .dataframe tbody tr th:only-of-type {\n",
       "        vertical-align: middle;\n",
       "    }\n",
       "\n",
       "    .dataframe tbody tr th {\n",
       "        vertical-align: top;\n",
       "    }\n",
       "\n",
       "    .dataframe thead th {\n",
       "        text-align: right;\n",
       "    }\n",
       "</style>\n",
       "<table border=\"1\" class=\"dataframe\">\n",
       "  <thead>\n",
       "    <tr style=\"text-align: right;\">\n",
       "      <th></th>\n",
       "      <th>ACTIVO_TOTAL</th>\n",
       "      <th>CAJA_BANCOS</th>\n",
       "      <th>CAPITAL</th>\n",
       "      <th>DOCS_X_COBRAR</th>\n",
       "      <th>COSTO_VTAS</th>\n",
       "      <th>DEUDORES_DIV</th>\n",
       "      <th>PAS_CIRCULANTE</th>\n",
       "      <th>PAS_LARGO_PLAZO</th>\n",
       "      <th>VTAS_NETAS_TOTALES</th>\n",
       "      <th>ANIOS_FUNCIONA</th>\n",
       "      <th>SECTOR_AIS</th>\n",
       "      <th>MORA</th>\n",
       "      <th>RAT_AP</th>\n",
       "    </tr>\n",
       "    <tr>\n",
       "      <th>ID_PERSONA</th>\n",
       "      <th></th>\n",
       "      <th></th>\n",
       "      <th></th>\n",
       "      <th></th>\n",
       "      <th></th>\n",
       "      <th></th>\n",
       "      <th></th>\n",
       "      <th></th>\n",
       "      <th></th>\n",
       "      <th></th>\n",
       "      <th></th>\n",
       "      <th></th>\n",
       "      <th></th>\n",
       "    </tr>\n",
       "  </thead>\n",
       "  <tbody>\n",
       "    <tr>\n",
       "      <th>CLPR001</th>\n",
       "      <td>24358000</td>\n",
       "      <td>450000.0</td>\n",
       "      <td>11999000.0</td>\n",
       "      <td>944000.0</td>\n",
       "      <td>30884000</td>\n",
       "      <td>450000</td>\n",
       "      <td>12294000</td>\n",
       "      <td>65000.0</td>\n",
       "      <td>40246000.0</td>\n",
       "      <td>0.0</td>\n",
       "      <td>3.0</td>\n",
       "      <td>0.0</td>\n",
       "      <td>1.030003</td>\n",
       "    </tr>\n",
       "    <tr>\n",
       "      <th>CLPR002</th>\n",
       "      <td>46230000</td>\n",
       "      <td>178000.0</td>\n",
       "      <td>4432000.0</td>\n",
       "      <td>3394000.0</td>\n",
       "      <td>22365000</td>\n",
       "      <td>1353000</td>\n",
       "      <td>27025000</td>\n",
       "      <td>14773000.0</td>\n",
       "      <td>23287000.0</td>\n",
       "      <td>11.0</td>\n",
       "      <td>6.0</td>\n",
       "      <td>0.0</td>\n",
       "      <td>9.430957</td>\n",
       "    </tr>\n",
       "    <tr>\n",
       "      <th>CLPR003</th>\n",
       "      <td>20141000</td>\n",
       "      <td>201000.0</td>\n",
       "      <td>15174000.0</td>\n",
       "      <td>5223000.0</td>\n",
       "      <td>66000</td>\n",
       "      <td>2000</td>\n",
       "      <td>760000</td>\n",
       "      <td>4207000.0</td>\n",
       "      <td>24128000.0</td>\n",
       "      <td>12.0</td>\n",
       "      <td>4.0</td>\n",
       "      <td>0.0</td>\n",
       "      <td>0.327336</td>\n",
       "    </tr>\n",
       "    <tr>\n",
       "      <th>CLPR004</th>\n",
       "      <td>27986000</td>\n",
       "      <td>1012000.0</td>\n",
       "      <td>15940000.0</td>\n",
       "      <td>11021000.0</td>\n",
       "      <td>58401000</td>\n",
       "      <td>49000</td>\n",
       "      <td>11825000</td>\n",
       "      <td>221000.0</td>\n",
       "      <td>65948000.0</td>\n",
       "      <td>8.0</td>\n",
       "      <td>4.0</td>\n",
       "      <td>0.0</td>\n",
       "      <td>0.755709</td>\n",
       "    </tr>\n",
       "    <tr>\n",
       "      <th>CLPR005</th>\n",
       "      <td>14714000</td>\n",
       "      <td>830000.0</td>\n",
       "      <td>7773000.0</td>\n",
       "      <td>6026000.0</td>\n",
       "      <td>63847000</td>\n",
       "      <td>48000</td>\n",
       "      <td>4983000</td>\n",
       "      <td>1958000.0</td>\n",
       "      <td>67094000.0</td>\n",
       "      <td>1.0</td>\n",
       "      <td>5.0</td>\n",
       "      <td>0.0</td>\n",
       "      <td>0.892963</td>\n",
       "    </tr>\n",
       "    <tr>\n",
       "      <th>...</th>\n",
       "      <td>...</td>\n",
       "      <td>...</td>\n",
       "      <td>...</td>\n",
       "      <td>...</td>\n",
       "      <td>...</td>\n",
       "      <td>...</td>\n",
       "      <td>...</td>\n",
       "      <td>...</td>\n",
       "      <td>...</td>\n",
       "      <td>...</td>\n",
       "      <td>...</td>\n",
       "      <td>...</td>\n",
       "      <td>...</td>\n",
       "    </tr>\n",
       "    <tr>\n",
       "      <th>CLPR995</th>\n",
       "      <td>30810000</td>\n",
       "      <td>658000.0</td>\n",
       "      <td>25709000.0</td>\n",
       "      <td>3829000.0</td>\n",
       "      <td>17572000</td>\n",
       "      <td>103000</td>\n",
       "      <td>4115000</td>\n",
       "      <td>986000.0</td>\n",
       "      <td>48360000.0</td>\n",
       "      <td>8.0</td>\n",
       "      <td>6.0</td>\n",
       "      <td>0.0</td>\n",
       "      <td>0.198413</td>\n",
       "    </tr>\n",
       "    <tr>\n",
       "      <th>CLPR996</th>\n",
       "      <td>27001000</td>\n",
       "      <td>13000.0</td>\n",
       "      <td>12248000.0</td>\n",
       "      <td>296000.0</td>\n",
       "      <td>25865000</td>\n",
       "      <td>0</td>\n",
       "      <td>14753000</td>\n",
       "      <td>0.0</td>\n",
       "      <td>35924000.0</td>\n",
       "      <td>1.0</td>\n",
       "      <td>4.0</td>\n",
       "      <td>0.0</td>\n",
       "      <td>1.204523</td>\n",
       "    </tr>\n",
       "    <tr>\n",
       "      <th>CLPR997</th>\n",
       "      <td>11986000</td>\n",
       "      <td>144000.0</td>\n",
       "      <td>6093000.0</td>\n",
       "      <td>2392000.0</td>\n",
       "      <td>15139000</td>\n",
       "      <td>2705000</td>\n",
       "      <td>5893000</td>\n",
       "      <td>0.0</td>\n",
       "      <td>20115000.0</td>\n",
       "      <td>11.0</td>\n",
       "      <td>6.0</td>\n",
       "      <td>0.0</td>\n",
       "      <td>0.967175</td>\n",
       "    </tr>\n",
       "    <tr>\n",
       "      <th>CLPR998</th>\n",
       "      <td>13008000</td>\n",
       "      <td>665000.0</td>\n",
       "      <td>6698000.0</td>\n",
       "      <td>970000.0</td>\n",
       "      <td>6660000</td>\n",
       "      <td>0</td>\n",
       "      <td>3405000</td>\n",
       "      <td>2905000.0</td>\n",
       "      <td>10246000.0</td>\n",
       "      <td>4.0</td>\n",
       "      <td>4.0</td>\n",
       "      <td>1.0</td>\n",
       "      <td>0.942072</td>\n",
       "    </tr>\n",
       "    <tr>\n",
       "      <th>CLPR999</th>\n",
       "      <td>36368000</td>\n",
       "      <td>1227000.0</td>\n",
       "      <td>8091000.0</td>\n",
       "      <td>3277000.0</td>\n",
       "      <td>18706000</td>\n",
       "      <td>0</td>\n",
       "      <td>4964000</td>\n",
       "      <td>23313000.0</td>\n",
       "      <td>37591000.0</td>\n",
       "      <td>9.0</td>\n",
       "      <td>1.0</td>\n",
       "      <td>0.0</td>\n",
       "      <td>3.494871</td>\n",
       "    </tr>\n",
       "  </tbody>\n",
       "</table>\n",
       "<p>999 rows × 13 columns</p>\n",
       "</div>"
      ],
      "text/plain": [
       "            ACTIVO_TOTAL  CAJA_BANCOS     CAPITAL  DOCS_X_COBRAR  COSTO_VTAS  \\\n",
       "ID_PERSONA                                                                     \n",
       "CLPR001         24358000     450000.0  11999000.0       944000.0    30884000   \n",
       "CLPR002         46230000     178000.0   4432000.0      3394000.0    22365000   \n",
       "CLPR003         20141000     201000.0  15174000.0      5223000.0       66000   \n",
       "CLPR004         27986000    1012000.0  15940000.0     11021000.0    58401000   \n",
       "CLPR005         14714000     830000.0   7773000.0      6026000.0    63847000   \n",
       "...                  ...          ...         ...            ...         ...   \n",
       "CLPR995         30810000     658000.0  25709000.0      3829000.0    17572000   \n",
       "CLPR996         27001000      13000.0  12248000.0       296000.0    25865000   \n",
       "CLPR997         11986000     144000.0   6093000.0      2392000.0    15139000   \n",
       "CLPR998         13008000     665000.0   6698000.0       970000.0     6660000   \n",
       "CLPR999         36368000    1227000.0   8091000.0      3277000.0    18706000   \n",
       "\n",
       "            DEUDORES_DIV  PAS_CIRCULANTE  PAS_LARGO_PLAZO  VTAS_NETAS_TOTALES  \\\n",
       "ID_PERSONA                                                                      \n",
       "CLPR001           450000        12294000          65000.0          40246000.0   \n",
       "CLPR002          1353000        27025000       14773000.0          23287000.0   \n",
       "CLPR003             2000          760000        4207000.0          24128000.0   \n",
       "CLPR004            49000        11825000         221000.0          65948000.0   \n",
       "CLPR005            48000         4983000        1958000.0          67094000.0   \n",
       "...                  ...             ...              ...                 ...   \n",
       "CLPR995           103000         4115000         986000.0          48360000.0   \n",
       "CLPR996                0        14753000              0.0          35924000.0   \n",
       "CLPR997          2705000         5893000              0.0          20115000.0   \n",
       "CLPR998                0         3405000        2905000.0          10246000.0   \n",
       "CLPR999                0         4964000       23313000.0          37591000.0   \n",
       "\n",
       "            ANIOS_FUNCIONA  SECTOR_AIS  MORA    RAT_AP  \n",
       "ID_PERSONA                                              \n",
       "CLPR001                0.0         3.0   0.0  1.030003  \n",
       "CLPR002               11.0         6.0   0.0  9.430957  \n",
       "CLPR003               12.0         4.0   0.0  0.327336  \n",
       "CLPR004                8.0         4.0   0.0  0.755709  \n",
       "CLPR005                1.0         5.0   0.0  0.892963  \n",
       "...                    ...         ...   ...       ...  \n",
       "CLPR995                8.0         6.0   0.0  0.198413  \n",
       "CLPR996                1.0         4.0   0.0  1.204523  \n",
       "CLPR997               11.0         6.0   0.0  0.967175  \n",
       "CLPR998                4.0         4.0   1.0  0.942072  \n",
       "CLPR999                9.0         1.0   0.0  3.494871  \n",
       "\n",
       "[999 rows x 13 columns]"
      ]
     },
     "execution_count": 16,
     "metadata": {},
     "output_type": "execute_result"
    }
   ],
   "source": [
    "clientes_03[clientes_03['ACTIVO_TOTAL']>0]"
   ]
  },
  {
   "cell_type": "code",
   "execution_count": 72,
   "id": "d9fcc5cd",
   "metadata": {
    "scrolled": false
   },
   "outputs": [
    {
     "data": {
      "image/png": "[encoded data removed]",
      "text/plain": [
       "<Figure size 1440x1080 with 9 Axes>"
      ]
     },
     "metadata": {
      "needs_background": "light"
     },
     "output_type": "display_data"
    }
   ],
   "source": [
    "clientes_03[variables_interes].hist(bins=50, figsize=(20,15))\n",
    "plt.savefig('Histogramas.png')"
   ]
  },
  {
   "cell_type": "code",
   "execution_count": 18,
   "id": "c9bf1a6a",
   "metadata": {},
   "outputs": [
    {
     "data": {
      "text/plain": [
       "MORA                  1.000000\n",
       "COSTO_VTAS            0.244378\n",
       "VTAS_NETAS_TOTALES    0.204734\n",
       "DOCS_X_COBRAR         0.177443\n",
       "PAS_CIRCULANTE        0.160808\n",
       "DEUDORES_DIV          0.146775\n",
       "ACTIVO_TOTAL          0.140788\n",
       "CAPITAL               0.114079\n",
       "PAS_LARGO_PLAZO       0.106543\n",
       "SECTOR_AIS            0.087965\n",
       "CAJA_BANCOS           0.015007\n",
       "ANIOS_FUNCIONA        0.008522\n",
       "RAT_AP                0.005303\n",
       "Name: MORA, dtype: float64"
      ]
     },
     "execution_count": 18,
     "metadata": {},
     "output_type": "execute_result"
    }
   ],
   "source": [
    "correlaciones"
   ]
  },
  {
   "cell_type": "code",
   "execution_count": 19,
   "id": "c4ec4bd3",
   "metadata": {
    "scrolled": false
   },
   "outputs": [
    {
     "data": {
      "text/plain": [
       "<AxesSubplot:xlabel='COSTO_VTAS', ylabel='Count'>"
      ]
     },
     "execution_count": 19,
     "metadata": {},
     "output_type": "execute_result"
    },
    {
     "data": {
      "image/png": "[encoded data removed]",
      "text/plain": [
       "<Figure size 432x288 with 1 Axes>"
      ]
     },
     "metadata": {
      "needs_background": "light"
     },
     "output_type": "display_data"
    }
   ],
   "source": [
    "sns.histplot(data=clientes_03_cat, x='COSTO_VTAS', hue='MORA')"
   ]
  },
  {
   "cell_type": "code",
   "execution_count": 25,
   "id": "83392cc0",
   "metadata": {},
   "outputs": [
    {
     "data": {
      "text/plain": [
       "<AxesSubplot:xlabel='VTAS_NETAS_TOTALES', ylabel='Count'>"
      ]
     },
     "execution_count": 25,
     "metadata": {},
     "output_type": "execute_result"
    },
    {
     "data": {
      "image/png": "[encoded data removed]",
      "text/plain": [
       "<Figure size 432x288 with 1 Axes>"
      ]
     },
     "metadata": {
      "needs_background": "light"
     },
     "output_type": "display_data"
    }
   ],
   "source": [
    "sns.histplot(data=clientes_03_cat, x='VTAS_NETAS_TOTALES', hue='MORA')"
   ]
  },
  {
   "cell_type": "markdown",
   "id": "d0486b6b",
   "metadata": {},
   "source": [
    "## MODELIZACIÓN"
   ]
  },
  {
   "cell_type": "markdown",
   "id": "6b66bd59",
   "metadata": {},
   "source": [
    "### Limpeza"
   ]
  },
  {
   "cell_type": "code",
   "execution_count": 44,
   "id": "89ccd1e0",
   "metadata": {
    "scrolled": true
   },
   "outputs": [
    {
     "data": {
      "text/html": [
       "<div>\n",
       "<style scoped>\n",
       "    .dataframe tbody tr th:only-of-type {\n",
       "        vertical-align: middle;\n",
       "    }\n",
       "\n",
       "    .dataframe tbody tr th {\n",
       "        vertical-align: top;\n",
       "    }\n",
       "\n",
       "    .dataframe thead th {\n",
       "        text-align: right;\n",
       "    }\n",
       "</style>\n",
       "<table border=\"1\" class=\"dataframe\">\n",
       "  <thead>\n",
       "    <tr style=\"text-align: right;\">\n",
       "      <th></th>\n",
       "      <th>ACTIVO_TOTAL</th>\n",
       "      <th>CAJA_BANCOS</th>\n",
       "      <th>CAPITAL</th>\n",
       "      <th>DOCS_X_COBRAR</th>\n",
       "      <th>COSTO_VTAS</th>\n",
       "      <th>DEUDORES_DIV</th>\n",
       "      <th>PAS_CIRCULANTE</th>\n",
       "      <th>PAS_LARGO_PLAZO</th>\n",
       "      <th>VTAS_NETAS_TOTALES</th>\n",
       "      <th>ANIOS_FUNCIONA</th>\n",
       "      <th>SECTOR_AIS</th>\n",
       "      <th>MORA</th>\n",
       "      <th>RAT_AP</th>\n",
       "    </tr>\n",
       "    <tr>\n",
       "      <th>ID_PERSONA</th>\n",
       "      <th></th>\n",
       "      <th></th>\n",
       "      <th></th>\n",
       "      <th></th>\n",
       "      <th></th>\n",
       "      <th></th>\n",
       "      <th></th>\n",
       "      <th></th>\n",
       "      <th></th>\n",
       "      <th></th>\n",
       "      <th></th>\n",
       "      <th></th>\n",
       "      <th></th>\n",
       "    </tr>\n",
       "  </thead>\n",
       "  <tbody>\n",
       "    <tr>\n",
       "      <th>CLPR013</th>\n",
       "      <td>22121000</td>\n",
       "      <td>494000.0</td>\n",
       "      <td>18993000.0</td>\n",
       "      <td>3985000.0</td>\n",
       "      <td>20928000</td>\n",
       "      <td>3242000</td>\n",
       "      <td>3128000</td>\n",
       "      <td>NaN</td>\n",
       "      <td>NaN</td>\n",
       "      <td>NaN</td>\n",
       "      <td>NaN</td>\n",
       "      <td>NaN</td>\n",
       "      <td>NaN</td>\n",
       "    </tr>\n",
       "  </tbody>\n",
       "</table>\n",
       "</div>"
      ],
      "text/plain": [
       "            ACTIVO_TOTAL  CAJA_BANCOS     CAPITAL  DOCS_X_COBRAR  COSTO_VTAS  \\\n",
       "ID_PERSONA                                                                     \n",
       "CLPR013         22121000     494000.0  18993000.0      3985000.0    20928000   \n",
       "\n",
       "            DEUDORES_DIV  PAS_CIRCULANTE  PAS_LARGO_PLAZO  VTAS_NETAS_TOTALES  \\\n",
       "ID_PERSONA                                                                      \n",
       "CLPR013          3242000         3128000              NaN                 NaN   \n",
       "\n",
       "            ANIOS_FUNCIONA  SECTOR_AIS  MORA  RAT_AP  \n",
       "ID_PERSONA                                            \n",
       "CLPR013                NaN         NaN   NaN     NaN  "
      ]
     },
     "execution_count": 44,
     "metadata": {},
     "output_type": "execute_result"
    }
   ],
   "source": [
    "clientes_03[clientes_03['MORA'].isnull()]"
   ]
  },
  {
   "cell_type": "code",
   "execution_count": 60,
   "id": "312e52f0",
   "metadata": {},
   "outputs": [],
   "source": [
    "clientes_03_modelo = clientes_03_cat.copy()\n",
    "clientes_03_modelo = clientes_03_modelo[clientes_03_modelo['MORA'].notnull()]\n",
    "clientes_03_modelo = clientes_03_modelo[clientes_03_modelo['CAPITAL'].notnull()]"
   ]
  },
  {
   "cell_type": "code",
   "execution_count": 61,
   "id": "30c9bbed",
   "metadata": {},
   "outputs": [],
   "source": [
    "mediana_doc_x_cobrar = clientes_03_modelo['DOCS_X_COBRAR'].median()"
   ]
  },
  {
   "cell_type": "code",
   "execution_count": 62,
   "id": "05dbab44",
   "metadata": {},
   "outputs": [],
   "source": [
    "clientes_03_modelo['DOCS_X_COBRAR'] = clientes_03_modelo['DOCS_X_COBRAR'].fillna(mediana_doc_x_cobrar)"
   ]
  },
  {
   "cell_type": "code",
   "execution_count": 63,
   "id": "bec18da4",
   "metadata": {},
   "outputs": [],
   "source": [
    "X = clientes_03_modelo.drop(columns='MORA')\n",
    "y = clientes_03_modelo['MORA']"
   ]
  },
  {
   "cell_type": "code",
   "execution_count": 65,
   "id": "60fd0440",
   "metadata": {},
   "outputs": [],
   "source": [
    "from sklearn.model_selection import train_test_split\n",
    "\n",
    "X_train, X_test, y_train, y_test = train_test_split(X, y, test_size=0.3)"
   ]
  },
  {
   "cell_type": "code",
   "execution_count": 66,
   "id": "543a89c9",
   "metadata": {},
   "outputs": [
    {
     "data": {
      "text/plain": [
       "LogisticRegression(C=1e+42, solver='liblinear')"
      ]
     },
     "execution_count": 66,
     "metadata": {},
     "output_type": "execute_result"
    }
   ],
   "source": [
    "from sklearn.linear_model import LogisticRegression\n",
    "logit_reg = LogisticRegression(penalty='l2', C=1e42, solver='liblinear')\n",
    "logit_reg.fit(X_train, y_train)"
   ]
  },
  {
   "cell_type": "code",
   "execution_count": 73,
   "id": "67453953",
   "metadata": {
    "scrolled": true
   },
   "outputs": [
    {
     "name": "stdout",
     "output_type": "stream",
     "text": [
      "Precision:  0.7972972972972973\n",
      "Recall:  0.9874476987447699\n",
      "Specificity 0.01639344262295082\n"
     ]
    }
   ],
   "source": [
    "from sklearn.metrics import confusion_matrix\n",
    "predicciones = logit_reg.predict(X_test)\n",
    "conf_mat = confusion_matrix(y_test, predicciones)\n",
    "print('Precision: ', conf_mat[0, 0] / sum(conf_mat[:, 0]))\n",
    "print('Recall: ', conf_mat[0, 0] / sum(conf_mat[0, :]))\n",
    "print('Specificity', conf_mat[1, 1] / sum(conf_mat[1, :]))"
   ]
  }
 ],
 "metadata": {
  "kernelspec": {
   "display_name": "Python 3 (ipykernel)",
   "language": "python",
   "name": "python3"
  },
  "language_info": {
   "codemirror_mode": {
    "name": "ipython",
    "version": 3
   },
   "file_extension": ".py",
   "mimetype": "text/x-python",
   "name": "python",
   "nbconvert_exporter": "python",
   "pygments_lexer": "ipython3",
   "version": "3.9.7"
  }
 },
 "nbformat": 4,
 "nbformat_minor": 5
}
